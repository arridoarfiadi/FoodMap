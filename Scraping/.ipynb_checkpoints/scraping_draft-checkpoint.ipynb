{
 "cells": [
  {
   "cell_type": "markdown",
   "metadata": {},
   "source": [
    "# Food Map\n",
    "#### Authors: \n",
    "##### Arrido Arfiadi, Christine Nguyen"
   ]
  },
  {
   "cell_type": "code",
   "execution_count": 48,
   "metadata": {
    "scrolled": true
   },
   "outputs": [],
   "source": [
    "# Web scraping, pickle imports\n",
    "import requests\n",
    "from bs4 import BeautifulSoup\n",
    "import pickle\n",
    "import pandas as pd\n",
    "from datetime import datetime\n",
    "import string\n",
    "from functools import reduce"
   ]
  },
  {
   "cell_type": "markdown",
   "metadata": {},
   "source": [
    "# Web Scraping"
   ]
  },
  {
   "cell_type": "markdown",
   "metadata": {},
   "source": [
    "## Constants"
   ]
  },
  {
   "cell_type": "code",
   "execution_count": 57,
   "metadata": {},
   "outputs": [],
   "source": [
    "SECTION_CLASS_NAME = \"lemon--section__373c0__fNwDM margin-t4__373c0__1TRkQ padding-t4__373c0__3hVZ3 border--top__373c0__3gXLy border-color--default__373c0__3-ifU\"\n",
    "REVIEW_LIST_NAME = \"lemon--ul__373c0__1_cxs undefined list__373c0__3GI_T\"\n",
    "REVIEW_LIST_ITEM_NAME = \"lemon--li__373c0__1r9wz margin-b3__373c0__q1DuY padding-b3__373c0__342DA border--bottom__373c0__3qNtD border-color--default__373c0__3-ifU\"\n",
    "COMMENT_SECTION = \"lemon--p__373c0__3Qnnj text__373c0__2Kxyz comment__373c0__3EKjH text-color--normal__373c0__3xep9 text-align--left__373c0__2XGa-\"\n",
    "DATE_SECTION = \"lemon--span__373c0__3997G text__373c0__2Kxyz text-color--mid__373c0__jCeOG text-align--left__373c0__2XGa-\"\n",
    "CUT_OFF_YEAR = datetime.now().year - 2\n",
    "NUMBER_OF_COMMENTS_PER_PAGE = 20\n",
    "\n",
    "RESTAURANT_CLASS_NAME = \"lemon--h1__373c0__2ZHSL heading--h1__373c0__dvYgw undefined heading--inline__373c0__10ozy\"\n",
    "RESTAURANT_STAR_RATING_CLASS_NAME = \"lemon--div__373c0__1mboc i-stars__373c0__1T6rz i-stars--large-4__373c0__1d6HV border-color--default__373c0__3-ifU overflow--hidden__373c0__2y4YK\"\n",
    "RESTAURANT_NUMBER_OF_RATING_CLASS_NAME = \"lemon--p__373c0__3Qnnj text__373c0__2Kxyz text-color--mid__373c0__jCeOG text-align--left__373c0__2XGa- text-size--large__373c0__3t60B\"\n",
    "RESTAURANT_PRICE_RANGE_CLASS_NAME = \"lemon--span__373c0__3997G text__373c0__2Kxyz text-color--normal__373c0__3xep9 text-align--left__373c0__2XGa- text-bullet--after__373c0__3fS1Z text-size--large__373c0__3t60B\"\n",
    "RESTAURANT_HEADER_CLASS_NAME = \"lemon--div__373c0__1mboc arrange__373c0__2C9bH gutter-4__373c0__3s8bL border-color--default__373c0__3-ifU\"\n",
    "RESTAURANT_TYPE_CLASS_NAME = \"lemon--span__373c0__3997G text__373c0__2Kxyz text-color--black-extra-light__373c0__2OyzO text-align--left__373c0__2XGa- text-size--large__373c0__3t60B\"\n",
    "RESTAURANT_ADDRESS_CLASS_NAME = \"lemon--span__373c0__3997G raw__373c0__3rcx7\"\n",
    "RESTAURANT_LOCATION_CLASS_NAME = \"lemon--div__373c0__1mboc padding-t2__373c0__11Iek padding-r2__373c0__28zpp padding-b2__373c0__34gV1 padding-l2__373c0__1Dr82 border-color--default__373c0__3-ifU\""
   ]
  },
  {
   "cell_type": "code",
   "execution_count": 3,
   "metadata": {},
   "outputs": [],
   "source": [
    "yelp_data = pd.DataFrame(columns = [\"ReviewDate\", \"StarRating\",\"UserComment\"]) "
   ]
  },
  {
   "cell_type": "code",
   "execution_count": 4,
   "metadata": {
    "scrolled": true
   },
   "outputs": [],
   "source": [
    "# get_data_from_url function takes a URL link and a dataframe as an argument. The dataframe must contain 3 columns: review date, star rating, and user commment.\n",
    "#it will go to the 'review' section and search for 'recommended reviews', and from there it will find the review date, star rating, and user comment. \n",
    "#There are 5 constants in the function that will jump straight to the section needed to grab the data and appends it to a dataframe.\n",
    "#After it completes scraping the data on the page, it will return return the dataframe.\n",
    "def get_data_from_url(url, df):\n",
    "    page = requests.get(url).text\n",
    "    soup = BeautifulSoup(page, \"lxml\") \n",
    "    reviewSection = None\n",
    "    for header in soup.select(\"h4\"):\n",
    "        if \"Recommended Reviews\" in header.get_text():\n",
    "            reviewSection = header.find_parent(class_ = SECTION_CLASS_NAME)\n",
    "            break\n",
    "    reviewList = reviewSection.find(class_ = REVIEW_LIST_NAME) #the review section\n",
    "    reviews = reviewList.find_all(class_ = REVIEW_LIST_ITEM_NAME) #contains all the everything, containing images, star ratings, comments and date, probably user, etc.\n",
    "\n",
    "    for review in reviews:\n",
    "        reviewDate = review.find(class_ = DATE_SECTION).get_text()\n",
    "        reviewYear = datetime.strptime(reviewDate, '%m/%d/%Y').year\n",
    "        if reviewYear >= CUT_OFF_YEAR:\n",
    "            df = df.append({\"ReviewDate\":reviewDate\n",
    "                      ,\"StarRating\":review.select_one(\"[aria-label*=rating]\")[\"aria-label\"]\n",
    "                      ,\"UserComment\":review.find(class_ = COMMENT_SECTION).get_text()}, ignore_index = True)\n",
    "        else:\n",
    "            break\n",
    "    return df         "
   ]
  },
  {
   "cell_type": "code",
   "execution_count": 5,
   "metadata": {},
   "outputs": [],
   "source": [
    "#page_iterator is a function takes a URL link and a dataframe as an argument. The dataframe must contain 3 columns: review date, star rating, and user commment.\n",
    "#NUMBER_OF_COMMENTS_PER_PAGE is a constant set to 20 because it represents the maximum number of reviews per page on yelp. \n",
    "#BASE_URL is a constant that takes the original URL link and adds '&sort_by=date_desc' that sorts the reviews by year in descending order.\n",
    "#'&start=' is added, which in yelp is a parameter, to specify which review index to start \n",
    "#The function iterates through pages of reviews per restaurant link. It calls another funciton, get_data_from_url and passes in a URL link and dataframe.\n",
    "#After it iterates through all the pages it needs to, itt returns a dataframe.\n",
    "#definition of this function might change the next time we meet...\n",
    "\n",
    "def page_iterator(url, df):\n",
    "    page = 0\n",
    "    baseUrl = url+'&sort_by=date_desc'+'&start='\n",
    "    \n",
    "    while page*NUMBER_OF_COMMENTS_PER_PAGE == len(df):\n",
    "        df = get_data_from_url(baseUrl+str(page*NUMBER_OF_COMMENTS_PER_PAGE),df).copy()\n",
    "        page+=1\n",
    "    return df    "
   ]
  },
  {
   "cell_type": "code",
   "execution_count": 56,
   "metadata": {},
   "outputs": [
    {
     "data": {
      "text/html": [
       "<div>\n",
       "<style scoped>\n",
       "    .dataframe tbody tr th:only-of-type {\n",
       "        vertical-align: middle;\n",
       "    }\n",
       "\n",
       "    .dataframe tbody tr th {\n",
       "        vertical-align: top;\n",
       "    }\n",
       "\n",
       "    .dataframe thead th {\n",
       "        text-align: right;\n",
       "    }\n",
       "</style>\n",
       "<table border=\"1\" class=\"dataframe\">\n",
       "  <thead>\n",
       "    <tr style=\"text-align: right;\">\n",
       "      <th></th>\n",
       "      <th>RestaurantName</th>\n",
       "      <th>StarRating</th>\n",
       "      <th>NumberOfRating</th>\n",
       "      <th>PriceRange</th>\n",
       "      <th>FoodTypes</th>\n",
       "      <th>Address</th>\n",
       "    </tr>\n",
       "  </thead>\n",
       "  <tbody>\n",
       "    <tr>\n",
       "      <th>0</th>\n",
       "      <td>A + Hong Kong Kitchen</td>\n",
       "      <td>4 star rating</td>\n",
       "      <td>545 reviews</td>\n",
       "      <td>$</td>\n",
       "      <td>[Cantonese, Hong Kong Style Cafe]</td>\n",
       "      <td>419 6th Ave S, Seattle, WA 98104</td>\n",
       "    </tr>\n",
       "    <tr>\n",
       "      <th>1</th>\n",
       "      <td>Fogo de Chão Brazilian Steakhouse</td>\n",
       "      <td>4 star rating</td>\n",
       "      <td>1855 reviews</td>\n",
       "      <td>$$$</td>\n",
       "      <td>[Brazilian, Steakhouses]</td>\n",
       "      <td>1101 Pennsylvania Ave NW, Washington, DC 20004</td>\n",
       "    </tr>\n",
       "  </tbody>\n",
       "</table>\n",
       "</div>"
      ],
      "text/plain": [
       "                      RestaurantName     StarRating NumberOfRating PriceRange  \\\n",
       "0              A + Hong Kong Kitchen  4 star rating    545 reviews         $    \n",
       "1  Fogo de Chão Brazilian Steakhouse  4 star rating   1855 reviews       $$$    \n",
       "\n",
       "                           FoodTypes  \\\n",
       "0  [Cantonese, Hong Kong Style Cafe]   \n",
       "1           [Brazilian, Steakhouses]   \n",
       "\n",
       "                                          Address  \n",
       "0                419 6th Ave S, Seattle, WA 98104  \n",
       "1  1101 Pennsylvania Ave NW, Washington, DC 20004  "
      ]
     },
     "execution_count": 56,
     "metadata": {},
     "output_type": "execute_result"
    }
   ],
   "source": [
    "#get_restaurant_info_from_url is a function takes a URL link and a dataframe as an argument. The dataframe must contain 3 columns: \"RestaurantName\", \"StarRating\",\"NumberOfRating\", \"PriceRange\",\"FoodTypes\", \"Address\"\n",
    "#The function parses through the page to get the information from that restaurant. It consist of inner functions get_food_type and merge_address that helps in parsing the data by allowing it to be used in map and reduce \n",
    "#After it finishes, it returns a dataframe.\n",
    "\n",
    "def get_restaurant_info_from_url(url, df):\n",
    "    #COMMENT HERE\n",
    "    def get_food_type(htmlObject):\n",
    "        return htmlObject.get_text().translate(str.maketrans('', '', string.punctuation)).strip()\n",
    "    \n",
    " \n",
    "    def merge_address(x1, x2): \n",
    "        return x1.get_text() + \", \" + x2.get_text()\n",
    "    \n",
    "    page = requests.get(url).text\n",
    "    soup = BeautifulSoup(page, \"lxml\") \n",
    "    restaurantName = soup.find(class_ = RESTAURANT_CLASS_NAME).get_text()\n",
    "    starRating = soup.find(class_ = RESTAURANT_STAR_RATING_CLASS_NAME)[\"aria-label\"]\n",
    "    numberOfRating = soup.find(class_ = RESTAURANT_NUMBER_OF_RATING_CLASS_NAME).get_text()\n",
    "    priceRange = soup.find(class_ = RESTAURANT_PRICE_RANGE_CLASS_NAME).get_text()\n",
    "    foodTypes = list(map(get_food_type,soup.find(class_ = RESTAURANT_HEADER_CLASS_NAME).find_all(class_ = RESTAURANT_TYPE_CLASS_NAME)))\n",
    "    address = reduce(merge_address,soup.find(class_ = RESTAURANT_LOCATION_CLASS_NAME).find_all(class_ = RESTAURANT_ADDRESS_CLASS_NAME))\n",
    "    \n",
    "    df = df.append({\"RestaurantName\": restaurantName,\n",
    "                    \"StarRating\":starRating,\n",
    "                    \"NumberOfRating\": numberOfRating,\n",
    "                    \"PriceRange\": priceRange,\n",
    "                    \"FoodTypes\": foodTypes,\n",
    "                    \"Address\": address\n",
    "                   }, ignore_index = True)\n",
    "    return df\n",
    "\n",
    "restaurantsInfo_df = pd.DataFrame(columns = [\"RestaurantName\", \"StarRating\",\"NumberOfRating\", \"PriceRange\",\"FoodTypes\", \"Address\"]) \n",
    "restaurantsInfo_df = get_restaurant_info_from_url('https://www.yelp.com/biz/a-hong-kong-kitchen-seattle?osq=chinese',restaurantsInfo_df)\n",
    "restaurantsInfo_df = get_restaurant_info_from_url('https://www.yelp.com/biz/fogo-de-ch%C3%A3o-brazilian-steakhouse-washington-8', restaurantsInfo_df)\n",
    "restaurantsInfo_df.head()"
   ]
  },
  {
   "cell_type": "code",
   "execution_count": 7,
   "metadata": {},
   "outputs": [],
   "source": [
    "testUrl = 'https://www.yelp.com/biz/a-hong-kong-kitchen-seattle?osq=chinese'\n",
    "yelp_data = page_iterator(testUrl, yelp_data).copy()"
   ]
  },
  {
   "cell_type": "code",
   "execution_count": 8,
   "metadata": {},
   "outputs": [
    {
     "data": {
      "text/html": [
       "<div>\n",
       "<style scoped>\n",
       "    .dataframe tbody tr th:only-of-type {\n",
       "        vertical-align: middle;\n",
       "    }\n",
       "\n",
       "    .dataframe tbody tr th {\n",
       "        vertical-align: top;\n",
       "    }\n",
       "\n",
       "    .dataframe thead th {\n",
       "        text-align: right;\n",
       "    }\n",
       "</style>\n",
       "<table border=\"1\" class=\"dataframe\">\n",
       "  <thead>\n",
       "    <tr style=\"text-align: right;\">\n",
       "      <th></th>\n",
       "      <th>ReviewDate</th>\n",
       "      <th>StarRating</th>\n",
       "      <th>UserComment</th>\n",
       "    </tr>\n",
       "  </thead>\n",
       "  <tbody>\n",
       "    <tr>\n",
       "      <th>270</th>\n",
       "      <td>1/5/2018</td>\n",
       "      <td>5 star rating</td>\n",
       "      <td>The mala tang is amazing!! Warning though, it'...</td>\n",
       "    </tr>\n",
       "    <tr>\n",
       "      <th>271</th>\n",
       "      <td>1/4/2018</td>\n",
       "      <td>3 star rating</td>\n",
       "      <td>Waited 45 mins and it was sub-par. Lots of ite...</td>\n",
       "    </tr>\n",
       "    <tr>\n",
       "      <th>272</th>\n",
       "      <td>1/3/2018</td>\n",
       "      <td>4 star rating</td>\n",
       "      <td>Most authentic HK style food Ive had outside o...</td>\n",
       "    </tr>\n",
       "    <tr>\n",
       "      <th>273</th>\n",
       "      <td>1/3/2018</td>\n",
       "      <td>5 star rating</td>\n",
       "      <td>Found this little place on Yelp! When in the I...</td>\n",
       "    </tr>\n",
       "    <tr>\n",
       "      <th>274</th>\n",
       "      <td>1/1/2018</td>\n",
       "      <td>5 star rating</td>\n",
       "      <td>Great, tiny and unassuming hole in a wall in I...</td>\n",
       "    </tr>\n",
       "  </tbody>\n",
       "</table>\n",
       "</div>"
      ],
      "text/plain": [
       "    ReviewDate     StarRating  \\\n",
       "270   1/5/2018  5 star rating   \n",
       "271   1/4/2018  3 star rating   \n",
       "272   1/3/2018  4 star rating   \n",
       "273   1/3/2018  5 star rating   \n",
       "274   1/1/2018  5 star rating   \n",
       "\n",
       "                                           UserComment  \n",
       "270  The mala tang is amazing!! Warning though, it'...  \n",
       "271  Waited 45 mins and it was sub-par. Lots of ite...  \n",
       "272  Most authentic HK style food Ive had outside o...  \n",
       "273  Found this little place on Yelp! When in the I...  \n",
       "274  Great, tiny and unassuming hole in a wall in I...  "
      ]
     },
     "execution_count": 8,
     "metadata": {},
     "output_type": "execute_result"
    }
   ],
   "source": [
    "yelp_data.tail()"
   ]
  },
  {
   "cell_type": "code",
   "execution_count": 9,
   "metadata": {},
   "outputs": [],
   "source": [
    "#TODO\n",
    "#Scrape more restaurants\n",
    "#Design Data Warehouse\n",
    "#Test Data Warehouse"
   ]
  }
 ],
 "metadata": {
  "kernelspec": {
   "display_name": "Python 3",
   "language": "python",
   "name": "python3"
  },
  "language_info": {
   "codemirror_mode": {
    "name": "ipython",
    "version": 3
   },
   "file_extension": ".py",
   "mimetype": "text/x-python",
   "name": "python",
   "nbconvert_exporter": "python",
   "pygments_lexer": "ipython3",
   "version": "3.8.3"
  }
 },
 "nbformat": 4,
 "nbformat_minor": 4
}
