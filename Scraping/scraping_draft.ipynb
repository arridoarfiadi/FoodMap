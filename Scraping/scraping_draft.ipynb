{
 "cells": [
  {
   "cell_type": "markdown",
   "metadata": {},
   "source": [
    "# Food Map\n",
    "#### Authors: \n",
    "##### Arrido Arfiadi, Christine Nguyen"
   ]
  },
  {
   "cell_type": "code",
   "execution_count": 78,
   "metadata": {
    "scrolled": true
   },
   "outputs": [],
   "source": [
    "# Web scraping, pickle imports\n",
    "import requests\n",
    "from bs4 import BeautifulSoup\n",
    "import pickle\n",
    "import pandas as pd\n",
    "from datetime import datetime"
   ]
  },
  {
   "cell_type": "markdown",
   "metadata": {},
   "source": [
    "# Web Scraping"
   ]
  },
  {
   "cell_type": "code",
   "execution_count": 106,
   "metadata": {},
   "outputs": [],
   "source": [
    "yelp_data = pd.DataFrame(columns = [\"ReviewDate\", \"StarRating\",\"UserComment\"]) "
   ]
  },
  {
   "cell_type": "code",
   "execution_count": 107,
   "metadata": {
    "scrolled": true
   },
   "outputs": [],
   "source": [
    "# get_data_from_url function takes a URL link and a dataframe as an argument. The dataframe must contain 3 columns: review date, star rating, and user commment.\n",
    "#it will go to the 'review' section and search for 'recommended reviews', and from there it will find the review date, star rating, and user comment. \n",
    "#There are 5 constants in the function that will jump straight to the section needed to grab the data and appends it to a dataframe.\n",
    "#After it completes scraping the data on the page, it will return return the dataframe.\n",
    "def get_data_from_url(url, df):\n",
    "    #HTML Class Name\n",
    "    \n",
    "    SECTION_CLASS_NAME = \"lemon--section__373c0__fNwDM margin-t4__373c0__1TRkQ padding-t4__373c0__3hVZ3 border--top__373c0__3gXLy border-color--default__373c0__3-ifU\"\n",
    "    REVIEW_LIST_NAME = \"lemon--ul__373c0__1_cxs undefined list__373c0__3GI_T\"\n",
    "    REVIEW_LIST_ITEM_NAME = \"lemon--li__373c0__1r9wz margin-b3__373c0__q1DuY padding-b3__373c0__342DA border--bottom__373c0__3qNtD border-color--default__373c0__3-ifU\"\n",
    "    COMMENT_SECTION = \"lemon--p__373c0__3Qnnj text__373c0__2Kxyz comment__373c0__3EKjH text-color--normal__373c0__3xep9 text-align--left__373c0__2XGa-\"\n",
    "    DATE_SECTION = \"lemon--span__373c0__3997G text__373c0__2Kxyz text-color--mid__373c0__jCeOG text-align--left__373c0__2XGa-\"\n",
    "    CUT_OFF_YEAR = datetime.now().year - 2\n",
    "    \n",
    "    page = requests.get(url).text\n",
    "    soup = BeautifulSoup(page, \"lxml\") \n",
    "    reviewSection = None\n",
    "    for header in soup.select(\"h4\"):\n",
    "        if \"Recommended Reviews\" in header.get_text():\n",
    "            reviewSection = header.find_parent(class_ = SECTION_CLASS_NAME)\n",
    "            break\n",
    "    reviewList = reviewSection.find(class_ = REVIEW_LIST_NAME) #the review section\n",
    "    reviews = reviewList.find_all(class_ = REVIEW_LIST_ITEM_NAME) #contains all the everything, containing images, star ratings, comments and date, probably user, etc.\n",
    "\n",
    "    for review in reviews:\n",
    "#         print(review.find(class_ = dateSection).get_text())            #gets date of review  \n",
    "#         print(review.select_one(\"[aria-label*=rating]\")[\"aria-label\"]) #gets star rating\n",
    "#         print(review.find(class_ = commentSection).get_text())         #gets user comments\n",
    "#         print('\\n')\n",
    "        reviewYear = datetime.strptime(review.find(class_ = DATE_SECTION).get_text(), '%m/%d/%Y').year\n",
    "#         print(reviewYear)\n",
    "        if reviewYear >= CUT_OFF_YEAR:\n",
    "            df = df.append({\"ReviewDate\":review.find(class_ = DATE_SECTION).get_text()\n",
    "                      ,\"StarRating\":review.select_one(\"[aria-label*=rating]\")[\"aria-label\"]\n",
    "                      ,\"UserComment\":review.find(class_ = COMMENT_SECTION).get_text()}, ignore_index = True)\n",
    "        else:\n",
    "            break\n",
    "    return df         "
   ]
  },
  {
   "cell_type": "code",
   "execution_count": 102,
   "metadata": {},
   "outputs": [],
   "source": [
    "#page_iterator is a function takes a URL link and a dataframe as an argument. The dataframe must contain 3 columns: review date, star rating, and user commment.\n",
    "#NUMBER_OF_COMMENTS_PER_PAGE is a constant set to 20 because it represents the maximum number of reviews per page on yelp. \n",
    "#BASE_URL is a constant that takes the original URL link and adds '&sort_by=date_desc' that sorts the reviews by year in descending order.\n",
    "#'&start=' is added, which in yelp is a parameter, to specify which review index to start \n",
    "#The function iterates through pages of reviews per restaurant link. It calls another funciton, get_data_from_url and passes in a URL link and dataframe.\n",
    "#After it iterates through all the pages it needs to, itt returns a dataframe.\n",
    "#definition of this function might change the next time we meet...\n",
    "\n",
    "def page_iterator(url, df):\n",
    "    NUMBER_OF_COMMENTS_PER_PAGE = 20 \n",
    "    page = 0\n",
    "    BASE_URL = url+'&sort_by=date_desc'+'&start='\n",
    "    \n",
    "    while page*NUMBER_OF_COMMENTS_PER_PAGE == len(df):\n",
    "#         print(page)\n",
    "        df = get_data_from_url(BASE_URL+str(page*NUMBER_OF_COMMENTS_PER_PAGE),df).copy()\n",
    "        page+=1\n",
    "    return df    "
   ]
  },
  {
   "cell_type": "code",
   "execution_count": null,
   "metadata": {},
   "outputs": [],
   "source": [
    "testUrl = 'https://www.yelp.com/biz/a-hong-kong-kitchen-seattle?osq=chinese'\n",
    "yelp_data = url_to_transcript(testUrl, yelp_data).copy()"
   ]
  },
  {
   "cell_type": "code",
   "execution_count": 108,
   "metadata": {},
   "outputs": [
    {
     "name": "stdout",
     "output_type": "stream",
     "text": [
      "0\n",
      "1\n",
      "2\n",
      "3\n",
      "4\n",
      "5\n",
      "6\n",
      "7\n",
      "8\n",
      "9\n",
      "10\n",
      "11\n",
      "12\n",
      "13\n"
     ]
    }
   ],
   "source": [
    "yelp_data = page_iterator(testUrl, yelp_data).copy()"
   ]
  },
  {
   "cell_type": "code",
   "execution_count": 109,
   "metadata": {},
   "outputs": [
    {
     "data": {
      "text/html": [
       "<div>\n",
       "<style scoped>\n",
       "    .dataframe tbody tr th:only-of-type {\n",
       "        vertical-align: middle;\n",
       "    }\n",
       "\n",
       "    .dataframe tbody tr th {\n",
       "        vertical-align: top;\n",
       "    }\n",
       "\n",
       "    .dataframe thead th {\n",
       "        text-align: right;\n",
       "    }\n",
       "</style>\n",
       "<table border=\"1\" class=\"dataframe\">\n",
       "  <thead>\n",
       "    <tr style=\"text-align: right;\">\n",
       "      <th></th>\n",
       "      <th>ReviewDate</th>\n",
       "      <th>StarRating</th>\n",
       "      <th>UserComment</th>\n",
       "    </tr>\n",
       "  </thead>\n",
       "  <tbody>\n",
       "    <tr>\n",
       "      <th>270</th>\n",
       "      <td>1/5/2018</td>\n",
       "      <td>5 star rating</td>\n",
       "      <td>The mala tang is amazing!! Warning though, it'...</td>\n",
       "    </tr>\n",
       "    <tr>\n",
       "      <th>271</th>\n",
       "      <td>1/4/2018</td>\n",
       "      <td>3 star rating</td>\n",
       "      <td>Waited 45 mins and it was sub-par. Lots of ite...</td>\n",
       "    </tr>\n",
       "    <tr>\n",
       "      <th>272</th>\n",
       "      <td>1/3/2018</td>\n",
       "      <td>4 star rating</td>\n",
       "      <td>Most authentic HK style food Ive had outside o...</td>\n",
       "    </tr>\n",
       "    <tr>\n",
       "      <th>273</th>\n",
       "      <td>1/3/2018</td>\n",
       "      <td>5 star rating</td>\n",
       "      <td>Found this little place on Yelp! When in the I...</td>\n",
       "    </tr>\n",
       "    <tr>\n",
       "      <th>274</th>\n",
       "      <td>1/1/2018</td>\n",
       "      <td>5 star rating</td>\n",
       "      <td>Great, tiny and unassuming hole in a wall in I...</td>\n",
       "    </tr>\n",
       "  </tbody>\n",
       "</table>\n",
       "</div>"
      ],
      "text/plain": [
       "    ReviewDate     StarRating  \\\n",
       "270   1/5/2018  5 star rating   \n",
       "271   1/4/2018  3 star rating   \n",
       "272   1/3/2018  4 star rating   \n",
       "273   1/3/2018  5 star rating   \n",
       "274   1/1/2018  5 star rating   \n",
       "\n",
       "                                           UserComment  \n",
       "270  The mala tang is amazing!! Warning though, it'...  \n",
       "271  Waited 45 mins and it was sub-par. Lots of ite...  \n",
       "272  Most authentic HK style food Ive had outside o...  \n",
       "273  Found this little place on Yelp! When in the I...  \n",
       "274  Great, tiny and unassuming hole in a wall in I...  "
      ]
     },
     "execution_count": 109,
     "metadata": {},
     "output_type": "execute_result"
    }
   ],
   "source": [
    "yelp_data.tail()"
   ]
  },
  {
   "cell_type": "code",
   "execution_count": null,
   "metadata": {},
   "outputs": [],
   "source": [
    "#TODO\n",
    "#get restaraunt data: Restaraunt Name, Star Rating, Dollar Sign, Cuisine Type, Restaraunt Address\n",
    "#code cleaning"
   ]
  }
 ],
 "metadata": {
  "kernelspec": {
   "display_name": "Python 3",
   "language": "python",
   "name": "python3"
  },
  "language_info": {
   "codemirror_mode": {
    "name": "ipython",
    "version": 3
   },
   "file_extension": ".py",
   "mimetype": "text/x-python",
   "name": "python",
   "nbconvert_exporter": "python",
   "pygments_lexer": "ipython3",
   "version": "3.7.3"
  }
 },
 "nbformat": 4,
 "nbformat_minor": 4
}
