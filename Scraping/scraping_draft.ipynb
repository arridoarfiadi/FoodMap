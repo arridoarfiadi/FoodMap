{
 "cells": [
  {
   "cell_type": "code",
   "execution_count": 6,
   "metadata": {
    "scrolled": true
   },
   "outputs": [],
   "source": [
    "# Web scraping, pickle imports\n",
    "import requests\n",
    "from bs4 import BeautifulSoup\n",
    "import pickle"
   ]
  },
  {
   "cell_type": "code",
   "execution_count": 95,
   "metadata": {},
   "outputs": [
    {
     "name": "stdout",
     "output_type": "stream",
     "text": [
      "5 star rating\n",
      "5 star rating\n",
      "5 star rating\n",
      "4 star rating\n",
      "1 star rating\n",
      "5 star rating\n",
      "1 star rating\n",
      "5 star rating\n",
      "5 star rating\n",
      "5 star rating\n",
      "4 star rating\n",
      "2 star rating\n",
      "5 star rating\n",
      "4 star rating\n",
      "5 star rating\n",
      "4 star rating\n",
      "5 star rating\n",
      "4 star rating\n",
      "4 star rating\n",
      "5 star rating\n"
     ]
    },
    {
     "data": {
      "text/plain": [
       "'https://www.yelp.com/biz/a-hong-kong-kitchen-seattle?osq=chinese'"
      ]
     },
     "execution_count": 95,
     "metadata": {},
     "output_type": "execute_result"
    }
   ],
   "source": [
    "def url_to_transcript(url):\n",
    "    #HTML Class Name\n",
    "    sectionClassName = \"lemon--section__373c0__fNwDM margin-t4__373c0__1TRkQ padding-t4__373c0__3hVZ3 border--top__373c0__3gXLy border-color--default__373c0__3-ifU\"\n",
    "    sectionHeaderName = \"lemon--h4__373c0__1yd__ heading--h4__373c0__27bDo heading--inline__373c0__10ozy\"\n",
    "    reviewListName = \"lemon--ul__373c0__1_cxs undefined list__373c0__3GI_T\"\n",
    "    reviewListItemName = \"lemon--li__373c0__1r9wz margin-b3__373c0__q1DuY padding-b3__373c0__342DA border--bottom__373c0__3qNtD border-color--default__373c0__3-ifU\"\n",
    "    \n",
    "    page = requests.get(url).text\n",
    "    soup = BeautifulSoup(page, \"lxml\") \n",
    "    sections = soup.find_all(class_ = sectionClassName)\n",
    "    reviewSection = None\n",
    "    for header in soup.select('h4'):\n",
    "        if \"Recommended Reviews\" in header.get_text():\n",
    "            reviewSection = header.find_parent(class_ = sectionClassName)\n",
    "            break\n",
    "    reviewList = reviewSection.find(class_ = reviewListName)\n",
    "    reviews = reviewList.find_all(class_ = reviewListItemName)\n",
    "    for review in reviews:\n",
    "        print(review.select_one('[aria-label*=rating]')['aria-label'])\n",
    "        \n",
    "    #.find_parent(class_ = sectionClassName)\n",
    "#     for section in sections:\n",
    "#         header = section.find(class_ = sectionHeaderName)\n",
    "#         if \"Recommended Reviews\" in header:\n",
    "#             \n",
    "                \n",
    "    return url\n",
    "\n",
    "testUrl = \"https://www.yelp.com/biz/a-hong-kong-kitchen-seattle?osq=chinese\"\n",
    "url_to_transcript(testUrl)\n",
    "\n",
    "#Todo\n",
    "#20mins trying to cleanup\n",
    "#Parse other data review comment and date\n",
    "#Parse restaurant info\n",
    "#Make github repo"
   ]
  },
  {
   "cell_type": "code",
   "execution_count": null,
   "metadata": {},
   "outputs": [],
   "source": []
  }
 ],
 "metadata": {
  "kernelspec": {
   "display_name": "Python 3",
   "language": "python",
   "name": "python3"
  },
  "language_info": {
   "codemirror_mode": {
    "name": "ipython",
    "version": 3
   },
   "file_extension": ".py",
   "mimetype": "text/x-python",
   "name": "python",
   "nbconvert_exporter": "python",
   "pygments_lexer": "ipython3",
   "version": "3.8.3"
  }
 },
 "nbformat": 4,
 "nbformat_minor": 4
}
